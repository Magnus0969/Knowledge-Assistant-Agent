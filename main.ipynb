{
 "cells": [
  {
   "cell_type": "code",
   "execution_count": null,
   "id": "4ca4fc4b",
   "metadata": {},
   "outputs": [
    {
     "name": "stderr",
     "output_type": "stream",
     "text": [
      "c:\\Python312\\Lib\\site-packages\\torch\\nn\\modules\\module.py:1747: FutureWarning: `encoder_attention_mask` is deprecated and will be removed in version 4.55.0 for `BertSdpaSelfAttention.forward`.\n",
      "  return forward_call(*args, **kwargs)\n",
      "c:\\Python312\\Lib\\site-packages\\torch\\nn\\modules\\module.py:1747: FutureWarning: `encoder_attention_mask` is deprecated and will be removed in version 4.55.0 for `BertSdpaSelfAttention.forward`.\n",
      "  return forward_call(*args, **kwargs)\n"
     ]
    },
    {
     "name": "stdout",
     "output_type": "stream",
     "text": [
      "\n",
      "📘 Answer:\n",
      " The provided .pdf file is a resume for Karthik B Magadi, a Computer Science undergraduate with a focus on Java and Python. He is detail-oriented, technically grounded, and has strong problem-solving, debugging, and collaboration skills. Karthik demonstrates a self-driven approach to learning new technologies and currently expanding his expertise in Agile methodologies, DevOps tools, and test automation frameworks (JUnit).\n",
      "\n",
      "He has experience as a Data Engineering Intern at Futurense Technologies where he developed, tested, and maintained data processing pipelines. He also worked on projects like an IPC Mechanism Simulator (Java) and NOVA - Voice Based Intelligent Assistant (Python).\n",
      "\n",
      "His technical skills include proficiency in languages such as Java, Python, SQL; tools like Git, GitHub, Docker, Selenium, Tableau, Power BI; concepts such as OOP, REST APIs, ETL, Multi-threading, Configuration Management, Scheduling; and testing methods including White-box Testing, Black-box Testing, Functional Testing, Manual Testing.\n",
      "\n",
      "He is also familiar with DevOps & Frameworks like GitHub Actions, CI/CD Pipelines, Selenium. His education background includes a B.Tech in Computer Science - AIML from JAIN (Deemed-to-be-University), Faculty of Engineering and Technology (FET) with a CGPA of 8.48/10.0.\n",
      "\n",
      "In addition, he has taken courses such as Operating Systems and You: Becoming a Power User and Python for Data Science, AI & Development. His contact information is provided at the beginning of the resume.\n"
     ]
    },
    {
     "name": "stderr",
     "output_type": "stream",
     "text": [
      "c:\\Python312\\Lib\\site-packages\\torch\\nn\\modules\\module.py:1747: FutureWarning: `encoder_attention_mask` is deprecated and will be removed in version 4.55.0 for `BertSdpaSelfAttention.forward`.\n",
      "  return forward_call(*args, **kwargs)\n"
     ]
    },
    {
     "name": "stdout",
     "output_type": "stream",
     "text": [
      "\n",
      "📘 Answer:\n",
      " The question is not explicitly stated, but based on the context provided, here's some information that could be helpful:\n",
      "\n",
      "1. Karthik B Magadi is a detail-oriented software support engineer with skills in Java, Python, and SQL. He has experience with DevOps tools like Git, Docker, and Selenium, and he is currently expanding his expertise in Agile methodologies, test automation frameworks (JUnit), and CI/CD pipelines.\n",
      "\n",
      "2. Magadi developed a voice-driven assistant using Python, speech recognition, pyttsx3, and custom GUI (PyQt5). He implemented modular error handling for graceful management of API failures and user miscommands, and used Git and manual testing for iterative improvements and debugging.\n",
      "\n",
      "3. In an internship at Futurense Technologies, Magadi developed, tested, and maintained data processing pipelines to ensure accurate ETL workflows. He also collaborated with cross-functional teams and resolved runtime exceptions to support seamless operations.\n",
      "\n",
      "4. Magadi has experience in simulating process communication using Java threads and shared memory concepts. He designed logger tools for debugging inter-process flow.\n",
      "\n",
      "5. Magadi created a voice-based intelligent assistant called NOVA, which uses Python, speech recognition, pyttsx3, custom GUI (PyQt5), and Grok API.\n"
     ]
    }
   ],
   "source": [
    "%run ./pdf_ingest.ipynb\n",
    "%run ./scholar_agent.ipynb\n",
    "\n",
    "# ✅ Step 1: Load and ingest your PDF\n",
    "pdf_path = \"C:/Assisto/Knowledge Assistant Agent/data/Karthik B Magadi, MotorQ.pdf\"\n",
    "\n",
    "# Step 2: Extract text\n",
    "text = load_pdf(pdf_path)\n",
    "\n",
    "# Step 3: Embed text into FAISS vector store (may overwrite index each time)\n",
    "embed_text(text)\n",
    "\n",
    "# Step 4: Load the retrieval-based QA chain\n",
    "qa_chain = load_agent()\n",
    "\n",
    "# Step 5: Interactive Q&A loop\n",
    "while True:\n",
    "    query = input(\"\\nAsk me something (or type 'exit'): \")\n",
    "    if query.lower() == \"exit\":\n",
    "        break\n",
    "    answer = ask(qa_chain, query)\n",
    "    print(f\"\\n Answer:\\n{answer}\")"
   ]
  }
 ],
 "metadata": {
  "kernelspec": {
   "display_name": "Python 3",
   "language": "python",
   "name": "python3"
  },
  "language_info": {
   "codemirror_mode": {
    "name": "ipython",
    "version": 3
   },
   "file_extension": ".py",
   "mimetype": "text/x-python",
   "name": "python",
   "nbconvert_exporter": "python",
   "pygments_lexer": "ipython3",
   "version": "3.12.6"
  }
 },
 "nbformat": 4,
 "nbformat_minor": 5
}
